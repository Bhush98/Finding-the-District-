{
 "cells": [
  {
   "cell_type": "markdown",
   "metadata": {},
   "source": [
    "District Classification \n",
    "\n",
    "This problem is a classification problem where we have latitude and longitude of the hotel and we\n",
    "have to predict the hotel is in which district out of three unique districts.\n",
    "\n"
   ]
  },
  {
   "cell_type": "code",
   "execution_count": 1,
   "metadata": {},
   "outputs": [],
   "source": [
    "#Importing Numpy for matrix multiplication\n",
    "\n",
    "\n",
    "import numpy as np"
   ]
  },
  {
   "cell_type": "code",
   "execution_count": 2,
   "metadata": {},
   "outputs": [],
   "source": [
    "#Importing pandas for reading our data\n",
    "\n",
    "\n",
    "import pandas as pd"
   ]
  },
  {
   "cell_type": "code",
   "execution_count": 3,
   "metadata": {},
   "outputs": [
    {
     "data": {
      "text/html": [
       "<div>\n",
       "<style scoped>\n",
       "    .dataframe tbody tr th:only-of-type {\n",
       "        vertical-align: middle;\n",
       "    }\n",
       "\n",
       "    .dataframe tbody tr th {\n",
       "        vertical-align: top;\n",
       "    }\n",
       "\n",
       "    .dataframe thead th {\n",
       "        text-align: right;\n",
       "    }\n",
       "</style>\n",
       "<table border=\"1\" class=\"dataframe\">\n",
       "  <thead>\n",
       "    <tr style=\"text-align: right;\">\n",
       "      <th></th>\n",
       "      <th>address</th>\n",
       "      <th>lat</th>\n",
       "      <th>lon</th>\n",
       "      <th>title</th>\n",
       "      <th>district</th>\n",
       "    </tr>\n",
       "  </thead>\n",
       "  <tbody>\n",
       "    <tr>\n",
       "      <th>0</th>\n",
       "      <td>No.30 Youya Road, Beitou District, Taipei 1124...</td>\n",
       "      <td>25.137793</td>\n",
       "      <td>121.51495</td>\n",
       "      <td>Grand View Resort Beitou</td>\n",
       "      <td>Beitou</td>\n",
       "    </tr>\n",
       "    <tr>\n",
       "      <th>1</th>\n",
       "      <td>No.28 Section 1, Minsheng East Road, Zhongshan...</td>\n",
       "      <td>25.057854</td>\n",
       "      <td>121.52409</td>\n",
       "      <td>YoMi Hotel</td>\n",
       "      <td>Zhongshan</td>\n",
       "    </tr>\n",
       "    <tr>\n",
       "      <th>2</th>\n",
       "      <td>No.3 Zhongshan Road, Beitou District, Taipei 1...</td>\n",
       "      <td>25.137163</td>\n",
       "      <td>121.50544</td>\n",
       "      <td>Beitou Hot Spring Resort (Tian Yue Quan)</td>\n",
       "      <td>Beitou</td>\n",
       "    </tr>\n",
       "    <tr>\n",
       "      <th>3</th>\n",
       "      <td>No.18 Songgao Road, Xinyi District, Taipei 110...</td>\n",
       "      <td>25.039248</td>\n",
       "      <td>121.56741</td>\n",
       "      <td>Humble House Taipei</td>\n",
       "      <td>Xinyi</td>\n",
       "    </tr>\n",
       "    <tr>\n",
       "      <th>4</th>\n",
       "      <td>4F., No.11, Sec. 2, Nanjing E. Road, Taipei 10...</td>\n",
       "      <td>25.052057</td>\n",
       "      <td>121.52831</td>\n",
       "      <td>Taipei Morning Hotel</td>\n",
       "      <td>Zhongshan</td>\n",
       "    </tr>\n",
       "  </tbody>\n",
       "</table>\n",
       "</div>"
      ],
      "text/plain": [
       "                                             address        lat        lon  \\\n",
       "0  No.30 Youya Road, Beitou District, Taipei 1124...  25.137793  121.51495   \n",
       "1  No.28 Section 1, Minsheng East Road, Zhongshan...  25.057854  121.52409   \n",
       "2  No.3 Zhongshan Road, Beitou District, Taipei 1...  25.137163  121.50544   \n",
       "3  No.18 Songgao Road, Xinyi District, Taipei 110...  25.039248  121.56741   \n",
       "4  4F., No.11, Sec. 2, Nanjing E. Road, Taipei 10...  25.052057  121.52831   \n",
       "\n",
       "                                      title   district  \n",
       "0                  Grand View Resort Beitou     Beitou  \n",
       "1                                YoMi Hotel  Zhongshan  \n",
       "2  Beitou Hot Spring Resort (Tian Yue Quan)     Beitou  \n",
       "3                       Humble House Taipei      Xinyi  \n",
       "4                      Taipei Morning Hotel  Zhongshan  "
      ]
     },
     "execution_count": 3,
     "metadata": {},
     "output_type": "execute_result"
    }
   ],
   "source": [
    "#Getting our data using pandas inbuilt function read_csv\n",
    "\n",
    "\n",
    "dataframe = pd.read_csv(\"/home/bhush/Documents/hotel.csv\")\n",
    "\n",
    "#The pandas function head helps printing the first five instances of dataframe\n",
    "\n",
    "dataframe.head()"
   ]
  },
  {
   "cell_type": "code",
   "execution_count": 4,
   "metadata": {},
   "outputs": [
    {
     "data": {
      "text/plain": [
       "array(['Beitou', 'Zhongshan', 'Xinyi'], dtype=object)"
      ]
     },
     "execution_count": 4,
     "metadata": {},
     "output_type": "execute_result"
    }
   ],
   "source": [
    "# Getting the unique values from the district column because it is the variable we have to classify \n",
    "# from given inputs\n",
    "\n",
    "dataframe['district'].unique()"
   ]
  },
  {
   "cell_type": "code",
   "execution_count": 5,
   "metadata": {},
   "outputs": [],
   "source": [
    "# Getting the LabelEncoder from sklearn to encode the string value to numbers for better classification\n",
    "\n",
    "from sklearn.preprocessing import LabelEncoder"
   ]
  },
  {
   "cell_type": "code",
   "execution_count": 6,
   "metadata": {},
   "outputs": [],
   "source": [
    "# Applyting label encoder to our data so that we can transform it.\n",
    "\n",
    "\n",
    "Lb = LabelEncoder()\n",
    "dataframe['district'] = Lb.fit_transform(dataframe['district'])"
   ]
  },
  {
   "cell_type": "code",
   "execution_count": 7,
   "metadata": {},
   "outputs": [
    {
     "data": {
      "text/html": [
       "<div>\n",
       "<style scoped>\n",
       "    .dataframe tbody tr th:only-of-type {\n",
       "        vertical-align: middle;\n",
       "    }\n",
       "\n",
       "    .dataframe tbody tr th {\n",
       "        vertical-align: top;\n",
       "    }\n",
       "\n",
       "    .dataframe thead th {\n",
       "        text-align: right;\n",
       "    }\n",
       "</style>\n",
       "<table border=\"1\" class=\"dataframe\">\n",
       "  <thead>\n",
       "    <tr style=\"text-align: right;\">\n",
       "      <th></th>\n",
       "      <th>address</th>\n",
       "      <th>lat</th>\n",
       "      <th>lon</th>\n",
       "      <th>title</th>\n",
       "      <th>district</th>\n",
       "    </tr>\n",
       "  </thead>\n",
       "  <tbody>\n",
       "    <tr>\n",
       "      <th>0</th>\n",
       "      <td>No.30 Youya Road, Beitou District, Taipei 1124...</td>\n",
       "      <td>25.137793</td>\n",
       "      <td>121.51495</td>\n",
       "      <td>Grand View Resort Beitou</td>\n",
       "      <td>0</td>\n",
       "    </tr>\n",
       "    <tr>\n",
       "      <th>1</th>\n",
       "      <td>No.28 Section 1, Minsheng East Road, Zhongshan...</td>\n",
       "      <td>25.057854</td>\n",
       "      <td>121.52409</td>\n",
       "      <td>YoMi Hotel</td>\n",
       "      <td>2</td>\n",
       "    </tr>\n",
       "    <tr>\n",
       "      <th>2</th>\n",
       "      <td>No.3 Zhongshan Road, Beitou District, Taipei 1...</td>\n",
       "      <td>25.137163</td>\n",
       "      <td>121.50544</td>\n",
       "      <td>Beitou Hot Spring Resort (Tian Yue Quan)</td>\n",
       "      <td>0</td>\n",
       "    </tr>\n",
       "    <tr>\n",
       "      <th>3</th>\n",
       "      <td>No.18 Songgao Road, Xinyi District, Taipei 110...</td>\n",
       "      <td>25.039248</td>\n",
       "      <td>121.56741</td>\n",
       "      <td>Humble House Taipei</td>\n",
       "      <td>1</td>\n",
       "    </tr>\n",
       "    <tr>\n",
       "      <th>4</th>\n",
       "      <td>4F., No.11, Sec. 2, Nanjing E. Road, Taipei 10...</td>\n",
       "      <td>25.052057</td>\n",
       "      <td>121.52831</td>\n",
       "      <td>Taipei Morning Hotel</td>\n",
       "      <td>2</td>\n",
       "    </tr>\n",
       "  </tbody>\n",
       "</table>\n",
       "</div>"
      ],
      "text/plain": [
       "                                             address        lat        lon  \\\n",
       "0  No.30 Youya Road, Beitou District, Taipei 1124...  25.137793  121.51495   \n",
       "1  No.28 Section 1, Minsheng East Road, Zhongshan...  25.057854  121.52409   \n",
       "2  No.3 Zhongshan Road, Beitou District, Taipei 1...  25.137163  121.50544   \n",
       "3  No.18 Songgao Road, Xinyi District, Taipei 110...  25.039248  121.56741   \n",
       "4  4F., No.11, Sec. 2, Nanjing E. Road, Taipei 10...  25.052057  121.52831   \n",
       "\n",
       "                                      title  district  \n",
       "0                  Grand View Resort Beitou         0  \n",
       "1                                YoMi Hotel         2  \n",
       "2  Beitou Hot Spring Resort (Tian Yue Quan)         0  \n",
       "3                       Humble House Taipei         1  \n",
       "4                      Taipei Morning Hotel         2  "
      ]
     },
     "execution_count": 7,
     "metadata": {},
     "output_type": "execute_result"
    }
   ],
   "source": [
    "# After encoding the data you can see the values in district column have been replaced by their\n",
    "# respective int values\n",
    "\n",
    "\n",
    "dataframe.head()\n",
    "\n",
    "\n",
    "#Here 0 represents Beitou\n",
    "# 1 represents Xinyi\n",
    "# 2 represents Zhongshan"
   ]
  },
  {
   "cell_type": "code",
   "execution_count": 8,
   "metadata": {},
   "outputs": [
    {
     "name": "stdout",
     "output_type": "stream",
     "text": [
      "[0 1 2] [18 13 71]\n"
     ]
    }
   ],
   "source": [
    "# Here we make use of 'unique' function from the numpy library to print the unique values in\n",
    "# district column with the count\n",
    "\n",
    "\n",
    "unique , counts = np.unique(dataframe['district'],return_counts=True)\n",
    "print(unique,counts)"
   ]
  },
  {
   "cell_type": "code",
   "execution_count": 9,
   "metadata": {},
   "outputs": [
    {
     "data": {
      "text/plain": [
       "array([0, 2, 1])"
      ]
     },
     "execution_count": 9,
     "metadata": {},
     "output_type": "execute_result"
    }
   ],
   "source": [
    "dataframe['district'].unique()"
   ]
  },
  {
   "cell_type": "code",
   "execution_count": 10,
   "metadata": {},
   "outputs": [
    {
     "name": "stdout",
     "output_type": "stream",
     "text": [
      "[[ 25.137793 121.51495 ]\n",
      " [ 25.057854 121.52409 ]\n",
      " [ 25.137163 121.50544 ]\n",
      " [ 25.039248 121.56741 ]\n",
      " [ 25.052057 121.52831 ]]\n"
     ]
    }
   ],
   "source": [
    "#By using .values after dataframe we convert dataframe object to a numpy array\n",
    "# The input variables  \n",
    "\n",
    "X = dataframe.iloc[:,1:3].values\n",
    "\n",
    "# Getting first five instances of X\n",
    "\n",
    "print(X[0:5,:])"
   ]
  },
  {
   "cell_type": "code",
   "execution_count": 11,
   "metadata": {},
   "outputs": [
    {
     "name": "stdout",
     "output_type": "stream",
     "text": [
      "[0 2 0 1 2]\n"
     ]
    }
   ],
   "source": [
    "# The variable that will be predicted i.e result \n",
    "\n",
    "Y = dataframe['district'].values\n",
    "print(Y[0:5])"
   ]
  },
  {
   "cell_type": "code",
   "execution_count": 12,
   "metadata": {},
   "outputs": [],
   "source": [
    "# Splitting data into training data and testing data using train_test_split\n",
    "\n",
    "\n",
    "\n",
    "from sklearn.model_selection import train_test_split\n",
    "X_train,X_test,Y_train,Y_test = train_test_split(X,Y,shuffle=False)"
   ]
  },
  {
   "cell_type": "code",
   "execution_count": 13,
   "metadata": {},
   "outputs": [
    {
     "name": "stdout",
     "output_type": "stream",
     "text": [
      "[[ 25.137793 121.51495 ]\n",
      " [ 25.057854 121.52409 ]\n",
      " [ 25.137163 121.50544 ]\n",
      " [ 25.039248 121.56741 ]\n",
      " [ 25.052057 121.52831 ]]\n"
     ]
    }
   ],
   "source": [
    "# Getting the first five instances of X_train\n",
    "\n",
    "print(X_train[0:5,:])"
   ]
  },
  {
   "cell_type": "code",
   "execution_count": 14,
   "metadata": {},
   "outputs": [
    {
     "data": {
      "text/plain": [
       "array([0, 2, 0, 1, 2])"
      ]
     },
     "execution_count": 14,
     "metadata": {},
     "output_type": "execute_result"
    }
   ],
   "source": [
    "#Getting the first five instancess of Y_train\n",
    "\n",
    "Y_train[0:5]"
   ]
  },
  {
   "cell_type": "code",
   "execution_count": 15,
   "metadata": {},
   "outputs": [],
   "source": [
    "# Getting our Classifier KNeighbors which stands for K nearest neighbors.\n",
    "# As this is a classification problem we used KNN , we can also use logistic regression , SVM etc \n",
    "# We can also use Neural Networks for this type of problem.\n",
    "\n",
    "\n",
    "from sklearn.neighbors import KNeighborsClassifier\n",
    "classifier = KNeighborsClassifier(n_neighbors=3)"
   ]
  },
  {
   "cell_type": "code",
   "execution_count": 16,
   "metadata": {},
   "outputs": [
    {
     "data": {
      "text/plain": [
       "KNeighborsClassifier(algorithm='auto', leaf_size=30, metric='minkowski',\n",
       "           metric_params=None, n_jobs=None, n_neighbors=3, p=2,\n",
       "           weights='uniform')"
      ]
     },
     "execution_count": 16,
     "metadata": {},
     "output_type": "execute_result"
    }
   ],
   "source": [
    "#Training our model fitting the data\n",
    "\n",
    "\n",
    "classifier.fit(X_train,Y_train)"
   ]
  },
  {
   "cell_type": "code",
   "execution_count": 17,
   "metadata": {},
   "outputs": [
    {
     "data": {
      "text/plain": [
       "1.0"
      ]
     },
     "execution_count": 17,
     "metadata": {},
     "output_type": "execute_result"
    }
   ],
   "source": [
    "# Getting the accuracy score for training data\n",
    "\n",
    "classifier.score(X_train,Y_train)"
   ]
  },
  {
   "cell_type": "code",
   "execution_count": 18,
   "metadata": {},
   "outputs": [
    {
     "data": {
      "text/plain": [
       "1.0"
      ]
     },
     "execution_count": 18,
     "metadata": {},
     "output_type": "execute_result"
    }
   ],
   "source": [
    "# Getting the accuracy score for testing data\n",
    "\n",
    "\n",
    "classifier.score(X_test,Y_test)"
   ]
  },
  {
   "cell_type": "code",
   "execution_count": 19,
   "metadata": {},
   "outputs": [
    {
     "name": "stdout",
     "output_type": "stream",
     "text": [
      "[1. 1. 1. 1. 1.]\n"
     ]
    }
   ],
   "source": [
    "# We are using cross validation here to get accuracy for different percentages of train,test data\n",
    "# Split\n",
    "\n",
    "\n",
    "from sklearn.model_selection import cross_val_score\n",
    "results = cross_val_score(classifier,X,Y,cv=5)\n",
    "print(results)"
   ]
  },
  {
   "cell_type": "code",
   "execution_count": 20,
   "metadata": {},
   "outputs": [
    {
     "data": {
      "text/plain": [
       "array([0])"
      ]
     },
     "execution_count": 20,
     "metadata": {},
     "output_type": "execute_result"
    }
   ],
   "source": [
    "#Predicting a random value from the dataset\n",
    "\n",
    "classifier.predict([[25.137793,121.51495]])"
   ]
  },
  {
   "cell_type": "code",
   "execution_count": 21,
   "metadata": {},
   "outputs": [
    {
     "data": {
      "text/plain": [
       "array([1])"
      ]
     },
     "execution_count": 21,
     "metadata": {},
     "output_type": "execute_result"
    }
   ],
   "source": [
    "classifier.predict([[25.039248,121.56741]])"
   ]
  },
  {
   "cell_type": "code",
   "execution_count": 33,
   "metadata": {},
   "outputs": [
    {
     "data": {
      "text/plain": [
       "Text(0, 0.5, 'Lon')"
      ]
     },
     "execution_count": 33,
     "metadata": {},
     "output_type": "execute_result"
    },
    {
     "data": {
      "image/png": "[encoded data removed]",
      "text/plain": [
       "<Figure size 432x288 with 1 Axes>"
      ]
     },
     "metadata": {
      "needs_background": "light"
     },
     "output_type": "display_data"
    }
   ],
   "source": [
    "#Plotting the scatter plot for the input variables\n",
    "\n",
    "\n",
    "import matplotlib.pyplot as plt\n",
    "plt.scatter(X[:,0],X[:,1])\n",
    "plt.title('District')\n",
    "plt.xlabel('Lat')\n",
    "plt.ylabel('Lon')"
   ]
  },
  {
   "cell_type": "code",
   "execution_count": 39,
   "metadata": {},
   "outputs": [
    {
     "data": {
      "text/plain": [
       "<matplotlib.collections.PathCollection at 0x7f841d57c198>"
      ]
     },
     "execution_count": 39,
     "metadata": {},
     "output_type": "execute_result"
    },
    {
     "data": {
      "image/png": "[encoded data removed]",
      "text/plain": [
       "<Figure size 432x288 with 1 Axes>"
      ]
     },
     "metadata": {
      "needs_background": "light"
     },
     "output_type": "display_data"
    }
   ],
   "source": [
    "# Plotting a scatter plot for unique values of district\n",
    "\n",
    "\n",
    "plt.scatter(25.137793,121.51495,marker='.',color='red')   #Beitou\n",
    "plt.scatter(25.057854,121.52409,marker='+',color='blue')  #Zhongshan\n",
    "plt.scatter(25.039248,121.56741,marker='^',color='green') #Xinyi"
   ]
  },
  {
   "cell_type": "code",
   "execution_count": null,
   "metadata": {},
   "outputs": [],
   "source": []
  }
 ],
 "metadata": {
  "kernelspec": {
   "display_name": "Python 3",
   "language": "python",
   "name": "python3"
  },
  "language_info": {
   "codemirror_mode": {
    "name": "ipython",
    "version": 3
   },
   "file_extension": ".py",
   "mimetype": "text/x-python",
   "name": "python",
   "nbconvert_exporter": "python",
   "pygments_lexer": "ipython3",
   "version": "3.6.7"
  }
 },
 "nbformat": 4,
 "nbformat_minor": 2
}
